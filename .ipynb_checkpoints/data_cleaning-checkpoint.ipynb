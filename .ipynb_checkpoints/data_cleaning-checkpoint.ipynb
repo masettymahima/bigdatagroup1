{
 "cells": [
  {
   "cell_type": "code",
   "execution_count": 2,
   "id": "2409a9c5-87ef-470a-8876-6dcb02b5d433",
   "metadata": {},
   "outputs": [],
   "source": [
    "# import libraries \n",
    "from pyspark import SparkFiles\n",
    "from pyspark.ml import Pipeline\n",
    "from pyspark.sql import SparkSession\n",
    "from pyspark.ml.feature import StringIndexer,IndexToString, VectorAssembler\n",
    "from pyspark.ml.evaluation import MulticlassClassificationEvaluator\n",
    "from pyspark.sql.types import IntegerType\n",
    "from pyspark.sql.functions import udf\n",
    "import matplotlib.pyplot as plt\n",
    "from pyspark.sql.functions import col, sum\n",
    "from pyspark.sql.functions import collect_set, count\n",
    "from pyspark.ml.feature import VectorAssembler\n",
    "from pyspark.ml.stat import Correlation\n",
    "from pyspark.ml.feature import StringIndexer\n",
    "from pyspark.sql import functions as F\n",
    "from pyspark.sql.functions import split, slice, size, concat_ws, when"
   ]
  },
  {
   "cell_type": "code",
   "execution_count": 3,
   "id": "c22a3efa-8d63-4fd5-a644-bd61944444f2",
   "metadata": {},
   "outputs": [],
   "source": [
    "# start spark session\n",
    "spark = SparkSession.builder.appName('Spark-Group1-Flights').getOrCreate()"
   ]
  },
  {
   "cell_type": "code",
   "execution_count": 4,
   "id": "cbfe4111-27ea-47ec-9de7-c170a0fe17d7",
   "metadata": {},
   "outputs": [
    {
     "name": "stderr",
     "output_type": "stream",
     "text": [
      "24/11/13 20:26:05 WARN org.apache.spark.sql.catalyst.util.package: Truncated the string representation of a plan since it was too large. This behavior can be adjusted by setting 'spark.sql.debug.maxToStringFields'.\n"
     ]
    },
    {
     "name": "stdout",
     "output_type": "stream",
     "text": [
      "+--------------------+----------+----------+---------------+------------------+-------------+--------------+-----------+--------------+------------+---------+--------+---------+--------------+-------------------+---------------------------------+------------------------+-------------------------------+----------------------+--------------------------+----------------------------+--------------------+-------------------+----------------------------+-------------------------+----------------+-----------------+\n",
      "|               legId|searchDate|flightDate|startingAirport|destinationAirport|fareBasisCode|travelDuration|elapsedDays|isBasicEconomy|isRefundable|isNonStop|baseFare|totalFare|seatsRemaining|totalTravelDistance|segmentsDepartureTimeEpochSeconds|segmentsDepartureTimeRaw|segmentsArrivalTimeEpochSeconds|segmentsArrivalTimeRaw|segmentsArrivalAirportCode|segmentsDepartureAirportCode| segmentsAirlineName|segmentsAirlineCode|segmentsEquipmentDescription|segmentsDurationInSeconds|segmentsDistance|segmentsCabinCode|\n",
      "+--------------------+----------+----------+---------------+------------------+-------------+--------------+-----------+--------------+------------+---------+--------+---------+--------------+-------------------+---------------------------------+------------------------+-------------------------------+----------------------+--------------------------+----------------------------+--------------------+-------------------+----------------------------+-------------------------+----------------+-----------------+\n",
      "|9ca0e81111c683bec...|2022-04-16|2022-04-17|            ATL|               BOS|     LA0NX0MC|       PT2H29M|          0|         false|       false|     true|  217.67|    248.6|             9|                947|                       1650214620|    2022-04-17T12:57:...|                     1650223560|  2022-04-17T15:26:...|                       BOS|                         ATL|               Delta|                 DL|                 Airbus A321|                     8940|             947|            coach|\n",
      "|98685953630e772a0...|2022-04-16|2022-04-17|            ATL|               BOS|     LA0NX0MC|       PT2H30M|          0|         false|       false|     true|  217.67|    248.6|             4|                947|                       1650191400|    2022-04-17T06:30:...|                     1650200400|  2022-04-17T09:00:...|                       BOS|                         ATL|               Delta|                 DL|                 Airbus A321|                     9000|             947|            coach|\n",
      "|98d90cbc32bfbb05c...|2022-04-16|2022-04-17|            ATL|               BOS|     LA0NX0MC|       PT2H30M|          0|         false|       false|     true|  217.67|    248.6|             9|                947|                       1650209700|    2022-04-17T11:35:...|                     1650218700|  2022-04-17T14:05:...|                       BOS|                         ATL|               Delta|                 DL|              Boeing 757-200|                     9000|             947|            coach|\n",
      "|969a269d38eae583f...|2022-04-16|2022-04-17|            ATL|               BOS|     LA0NX0MC|       PT2H32M|          0|         false|       false|     true|  217.67|    248.6|             8|                947|                       1650218340|    2022-04-17T13:59:...|                     1650227460|  2022-04-17T16:31:...|                       BOS|                         ATL|               Delta|                 DL|                 Airbus A321|                     9120|             947|            coach|\n",
      "|980370cf27c89b40d...|2022-04-16|2022-04-17|            ATL|               BOS|     LA0NX0MC|       PT2H34M|          0|         false|       false|     true|  217.67|    248.6|             9|                947|                       1650203940|    2022-04-17T09:59:...|                     1650213180|  2022-04-17T12:33:...|                       BOS|                         ATL|               Delta|                 DL|                 Airbus A321|                     9240|             947|            coach|\n",
      "|79eda9f841e226a1e...|2022-04-16|2022-04-17|            ATL|               BOS|     VH0AUEL1|       PT2H38M|          0|         false|       false|     true|  217.67|    248.6|             7|                947|                       1650206700|    2022-04-17T10:45:...|                     1650216180|  2022-04-17T13:23:...|                       BOS|                         ATL|     JetBlue Airways|                 B6|                        null|                     9480|             947|            coach|\n",
      "|9335fae376c38bb61...|2022-04-16|2022-04-17|            ATL|               BOS|     V0AJZNN1|       PT4H12M|          0|         false|       false|    false|  213.02|    251.1|             3|                956|             1650198000||16502...|    2022-04-17T08:20:...|           1650203400||16502...|  2022-04-17T09:50:...|                  CLT||BOS|                    ATL||CLT|American Airlines...|             AA||AA|        Airbus A320||Airb...|               5400||7500|        228||728|     coach||coach|\n",
      "|3904bf87f2d1daf33...|2022-04-16|2022-04-17|            ATL|               BOS|     V0AJZNN1|       PT5H18M|          0|         false|       false|    false|  213.02|    251.1|             3|                956|             1650198000||16502...|    2022-04-17T08:20:...|           1650203400||16502...|  2022-04-17T09:50:...|                  CLT||BOS|                    ATL||CLT|American Airlines...|             AA||AA|        Airbus A320||Boei...|               5400||8280|        228||728|     coach||coach|\n",
      "|d93988734c44a3c07...|2022-04-16|2022-04-17|            ATL|               BOS|     V0AJZNN1|       PT5H32M|          0|         false|       false|    false|  213.02|    251.1|             7|                956|             1650193200||16502...|    2022-04-17T07:00:...|           1650198060||16502...|  2022-04-17T08:21:...|                  CLT||BOS|                    ATL||CLT|American Airlines...|             AA||AA|        Airbus A319||Airb...|               4860||7500|        228||728|     coach||coach|\n",
      "|562e7d5dd6ecbf150...|2022-04-16|2022-04-17|            ATL|               BOS|     V0AJZNN1|       PT6H38M|          0|         false|       false|    false|  213.02|    251.1|             7|                956|             1650193200||16502...|    2022-04-17T07:00:...|           1650198060||16502...|  2022-04-17T08:21:...|                  CLT||BOS|                    ATL||CLT|American Airlines...|             AA||AA|        Airbus A319||Boei...|               4860||8280|        228||728|     coach||coach|\n",
      "+--------------------+----------+----------+---------------+------------------+-------------+--------------+-----------+--------------+------------+---------+--------+---------+--------------+-------------------+---------------------------------+------------------------+-------------------------------+----------------------+--------------------------+----------------------------+--------------------+-------------------+----------------------------+-------------------------+----------------+-----------------+\n",
      "only showing top 10 rows\n",
      "\n"
     ]
    }
   ],
   "source": [
    "# load dataset\n",
    "\n",
    "# Replace 'your-bucket' and 'path/to/your/file.csv' with your actual GCS bucket and file path\n",
    "gcs_path = \"gs://msca-bdp-student-gcs/Group1/itineraries.csv\"\n",
    "\n",
    "# Read the CSV file from GCS\n",
    "df = spark.read.csv(gcs_path, header=True, inferSchema=True)\n",
    "\n",
    "# Show the DataFrame\n",
    "df.show(10)"
   ]
  },
  {
   "cell_type": "code",
   "execution_count": 4,
   "id": "57e3b134-9b0a-4249-91e3-8ae46fe3128d",
   "metadata": {},
   "outputs": [
    {
     "name": "stderr",
     "output_type": "stream",
     "text": [
      "                                                                                \r"
     ]
    }
   ],
   "source": [
    "# Get the number of rows\n",
    "num_rows = df.count()\n",
    "\n",
    "# Get the number of columns\n",
    "num_columns = len(df.columns)\n",
    "\n",
    "# Get the shape of the DataFrame\n",
    "shape = (num_rows, num_columns)"
   ]
  },
  {
   "cell_type": "code",
   "execution_count": 5,
   "id": "7c84ca9d-6af5-472d-8b44-980e5625df12",
   "metadata": {},
   "outputs": [
    {
     "data": {
      "text/plain": [
       "(82138753, 27)"
      ]
     },
     "execution_count": 5,
     "metadata": {},
     "output_type": "execute_result"
    }
   ],
   "source": [
    "shape"
   ]
  },
  {
   "cell_type": "code",
   "execution_count": 5,
   "id": "9c5f0c0e-27c7-4a03-b17d-90200891b77a",
   "metadata": {},
   "outputs": [],
   "source": [
    "# drop columns that have duplicate or redundant information \n",
    "df = df.drop(\"baseFare\", \"isBasicEconomy\", \"segmentsArrivalAirportCode\", \"segmentsDepartureTimeEpochSeconds\",\n",
    "             \"segmentsArrivalTimeEpochSeconds\", \"segmentsAirlineCode\", \"fareBasisCode\",\n",
    "            \"segmentsDurationInSeconds\", \"segmentsDistance\", \"segmentsDepartureTimeRaw\")"
   ]
  },
  {
   "cell_type": "code",
   "execution_count": 6,
   "id": "cfabcef8-e156-4eeb-a88f-bc4e95ebee36",
   "metadata": {},
   "outputs": [
    {
     "name": "stdout",
     "output_type": "stream",
     "text": [
      "root\n",
      " |-- legId: string (nullable = true)\n",
      " |-- searchDate: string (nullable = true)\n",
      " |-- flightDate: string (nullable = true)\n",
      " |-- startingAirport: string (nullable = true)\n",
      " |-- destinationAirport: string (nullable = true)\n",
      " |-- travelDuration: string (nullable = true)\n",
      " |-- elapsedDays: integer (nullable = true)\n",
      " |-- isRefundable: boolean (nullable = true)\n",
      " |-- isNonStop: boolean (nullable = true)\n",
      " |-- totalFare: double (nullable = true)\n",
      " |-- seatsRemaining: integer (nullable = true)\n",
      " |-- totalTravelDistance: integer (nullable = true)\n",
      " |-- segmentsArrivalTimeRaw: string (nullable = true)\n",
      " |-- segmentsDepartureAirportCode: string (nullable = true)\n",
      " |-- segmentsAirlineName: string (nullable = true)\n",
      " |-- segmentsEquipmentDescription: string (nullable = true)\n",
      " |-- segmentsCabinCode: string (nullable = true)\n",
      "\n"
     ]
    }
   ],
   "source": [
    "# see types for each column\n",
    "df.printSchema()"
   ]
  },
  {
   "cell_type": "code",
   "execution_count": 7,
   "id": "a4f42e18-8a74-4f47-8f75-92cffe6d25ae",
   "metadata": {},
   "outputs": [],
   "source": [
    "# make a copy of data for manipulations\n",
    "copy_df = df"
   ]
  },
  {
   "cell_type": "code",
   "execution_count": 8,
   "id": "257afaf3-a5a8-4b0e-935b-63a06cad386b",
   "metadata": {},
   "outputs": [],
   "source": [
    "# Use regexp_extract to get the days, hours, and minutes components from the duration string\n",
    "# travelduration is stored in two different formats, one with Day and one with only hours, so have to handle both\n",
    "temp_df = copy_df.withColumn(\"days\", F.coalesce(F.regexp_extract(\"travelDuration\", r\"P(\\d+)D\", 1).cast(\"int\"), F.lit(0)))\n",
    "\n",
    "temp_df = temp_df.withColumn(\"hours\", F.coalesce(F.regexp_extract(\"travelDuration\", r\"(\\d+)H\", 1).cast(\"int\"), F.lit(0)))\n",
    "\n",
    "temp_df = temp_df.withColumn(\"minutes\", F.coalesce(F.regexp_extract(\"travelDuration\", r\"(\\d+)M\", 1).cast(\"int\"), F.lit(0)))"
   ]
  },
  {
   "cell_type": "code",
   "execution_count": 9,
   "id": "2e22a77a-82da-4a98-8afa-b6fe0e9826bd",
   "metadata": {},
   "outputs": [],
   "source": [
    "# convert travelDuration column to minutes by summing total minutes from days hours and minutes \n",
    "copy_df = temp_df.withColumn(\n",
    "    \"travelDuration\", \n",
    "    F.col(\"days\") * 1440 + F.col(\"hours\") * 60 + F.col(\"minutes\")\n",
    ")"
   ]
  },
  {
   "cell_type": "code",
   "execution_count": 10,
   "id": "33641364-d2cc-4649-9e17-3dbc989d11f6",
   "metadata": {},
   "outputs": [],
   "source": [
    "# drop the temporary columns \n",
    "copy_df = copy_df.drop(\"days\", \"hours\", \"minutes\")"
   ]
  },
  {
   "cell_type": "code",
   "execution_count": 11,
   "id": "9652f38b-6a77-4314-838b-c90b5c15f41e",
   "metadata": {},
   "outputs": [
    {
     "name": "stdout",
     "output_type": "stream",
     "text": [
      "+--------------+\n",
      "|travelDuration|\n",
      "+--------------+\n",
      "|           149|\n",
      "|           150|\n",
      "|           150|\n",
      "|           152|\n",
      "|           154|\n",
      "|           158|\n",
      "|           252|\n",
      "|           318|\n",
      "|           332|\n",
      "|           398|\n",
      "|           286|\n",
      "|           345|\n",
      "|           359|\n",
      "|           438|\n",
      "|           490|\n",
      "|           339|\n",
      "|           158|\n",
      "|           257|\n",
      "|           276|\n",
      "|           285|\n",
      "+--------------+\n",
      "only showing top 20 rows\n",
      "\n"
     ]
    }
   ],
   "source": [
    "# check the travelDuration column converted correctly \n",
    "copy_df.select(\"travelDuration\").show()"
   ]
  },
  {
   "cell_type": "code",
   "execution_count": 12,
   "id": "628acd47-5d6a-4756-919d-60b2e2d25a5e",
   "metadata": {},
   "outputs": [],
   "source": [
    "# data cleaning on small subset of data to test that the  cleaning works \n",
    "smalldf = copy_df.limit(100).cache()"
   ]
  },
  {
   "cell_type": "code",
   "execution_count": 13,
   "id": "f930a17d-dc87-4526-b4ce-b97854e17d01",
   "metadata": {},
   "outputs": [],
   "source": [
    "# convert search dates to date types\n",
    "smalldf = smalldf.withColumn(\"searchDate\", F.to_date(F.col(\"searchDate\"), \"yyyy-MM-dd\"))"
   ]
  },
  {
   "cell_type": "code",
   "execution_count": 14,
   "id": "74c8f52c-df75-4983-b872-822ef041980d",
   "metadata": {},
   "outputs": [],
   "source": [
    "# convert flight dates to date type\n",
    "smalldf = smalldf.withColumn(\"flightDate\", F.to_date(F.col(\"flightDate\"), \"yyyy-MM-dd\"))"
   ]
  },
  {
   "cell_type": "code",
   "execution_count": 15,
   "id": "ff4bfc43-4a6c-44d9-9132-aff4f661d353",
   "metadata": {},
   "outputs": [
    {
     "name": "stdout",
     "output_type": "stream",
     "text": [
      "root\n",
      " |-- searchDate: date (nullable = true)\n",
      " |-- flightDate: date (nullable = true)\n",
      " |-- travelDuration: integer (nullable = false)\n",
      "\n"
     ]
    }
   ],
   "source": [
    "# check that conversions were correct\n",
    "smalldf.select(\"searchDate\", \"flightDate\", \"travelDuration\").printSchema()"
   ]
  },
  {
   "cell_type": "code",
   "execution_count": 16,
   "id": "be3caecb-b09a-41fe-883f-f49d9f751ffb",
   "metadata": {},
   "outputs": [],
   "source": [
    "# Calculate the number of days that passed between search and flight date\n",
    "smalldf = smalldf.withColumn(\"DaysBeforeFlight\", F.datediff(F.col(\"flightDate\"), F.col(\"searchDate\")))"
   ]
  },
  {
   "cell_type": "code",
   "execution_count": 17,
   "id": "660c000a-c027-4c53-bba2-e884331f5f59",
   "metadata": {},
   "outputs": [
    {
     "name": "stderr",
     "output_type": "stream",
     "text": [
      "[Stage 4:======================================================>(230 + 2) / 232]\r"
     ]
    },
    {
     "name": "stdout",
     "output_type": "stream",
     "text": [
      "+----------+----------+----------+\n",
      "|searchDate|flightDate|DaysPassed|\n",
      "+----------+----------+----------+\n",
      "|2022-06-24|2022-08-07|        44|\n",
      "|2022-06-24|2022-08-07|        44|\n",
      "|2022-06-24|2022-08-07|        44|\n",
      "|2022-06-24|2022-08-07|        44|\n",
      "|2022-06-24|2022-08-07|        44|\n",
      "|2022-06-24|2022-08-07|        44|\n",
      "|2022-06-24|2022-08-07|        44|\n",
      "|2022-06-24|2022-08-07|        44|\n",
      "|2022-06-24|2022-08-07|        44|\n",
      "|2022-06-24|2022-08-07|        44|\n",
      "|2022-06-24|2022-08-07|        44|\n",
      "|2022-06-24|2022-08-07|        44|\n",
      "|2022-06-24|2022-08-07|        44|\n",
      "|2022-06-24|2022-08-07|        44|\n",
      "|2022-06-24|2022-08-07|        44|\n",
      "|2022-06-24|2022-08-07|        44|\n",
      "|2022-06-24|2022-08-07|        44|\n",
      "|2022-06-24|2022-08-07|        44|\n",
      "|2022-06-24|2022-08-07|        44|\n",
      "|2022-06-24|2022-08-07|        44|\n",
      "+----------+----------+----------+\n",
      "only showing top 20 rows\n",
      "\n"
     ]
    },
    {
     "name": "stderr",
     "output_type": "stream",
     "text": [
      "                                                                                \r"
     ]
    }
   ],
   "source": [
    "# check that calculation was correct\n",
    "smalldf.select(\"searchDate\", \"flightDate\", \"DaysPassed\").show()"
   ]
  },
  {
   "cell_type": "code",
   "execution_count": 18,
   "id": "f3aa12ce-64e9-425b-a721-c2f6b509eb32",
   "metadata": {},
   "outputs": [],
   "source": [
    "# find all airports that layovers occured in and count number of layovers \n",
    "smalldf = smalldf.withColumn('Layovers', split(smalldf['segmentsDepartureAirportCode'], '\\|\\|'))\n",
    "smalldf = smalldf.withColumn('Layovers', slice(smalldf['Layovers'], 2, 10))\n",
    "smalldf = smalldf.withColumn('NumStops', size(smalldf['Layovers']))                               "
   ]
  },
  {
   "cell_type": "code",
   "execution_count": 19,
   "id": "bfd75caa-7f44-44a8-8665-f3b4f7a0fb45",
   "metadata": {},
   "outputs": [
    {
     "name": "stdout",
     "output_type": "stream",
     "text": [
      "+----------------------------+----------+--------+\n",
      "|segmentsDepartureAirportCode|  Layovers|NumStops|\n",
      "+----------------------------+----------+--------+\n",
      "|               LGA||ATL||SLC|[ATL, SLC]|       2|\n",
      "|               LGA||ATL||LAX|[ATL, LAX]|       2|\n",
      "|                         LGA|        []|       0|\n",
      "|                         LGA|        []|       0|\n",
      "|                         LGA|        []|       0|\n",
      "|                         LGA|        []|       0|\n",
      "|                         LGA|        []|       0|\n",
      "|                         LGA|        []|       0|\n",
      "|                         LGA|        []|       0|\n",
      "|                         LGA|        []|       0|\n",
      "+----------------------------+----------+--------+\n",
      "only showing top 10 rows\n",
      "\n"
     ]
    }
   ],
   "source": [
    "# check that the columns updated correctly \n",
    "smalldf.select(\"segmentsDepartureAirportCode\", \"Layovers\", \"NumStops\").show(10)"
   ]
  },
  {
   "cell_type": "code",
   "execution_count": 20,
   "id": "255c955e-5412-493a-9923-ead831281fc8",
   "metadata": {},
   "outputs": [],
   "source": [
    "# drop original column\n",
    "smalldf = smalldf.drop(\"segmentsDepartureAirportCode\") "
   ]
  },
  {
   "cell_type": "code",
   "execution_count": 21,
   "id": "2733c6bb-a5f2-46ba-a833-15fc9371ccb6",
   "metadata": {},
   "outputs": [],
   "source": [
    "# find all flight companies flewn and count number of unique flights\n",
    "smalldf = smalldf.withColumn('AirlineNames', split(smalldf['segmentsAirlineName'], '\\|\\|'))\n",
    "smalldf = smalldf.withColumn('UniqueAirlineNames', F.array_distinct(F.col('AirlineNames')))\n",
    "smalldf = smalldf.withColumn('NumUniqueAirlines', F.size(F.col('UniqueAirlineNames')))"
   ]
  },
  {
   "cell_type": "code",
   "execution_count": 22,
   "id": "516a565b-58d8-470b-848d-200a4601e475",
   "metadata": {},
   "outputs": [
    {
     "name": "stdout",
     "output_type": "stream",
     "text": [
      "+-------------------+---------------------+-------------------+-----------------+\n",
      "|segmentsAirlineName|AirlineNames         |UniqueAirlineNames |NumUniqueAirlines|\n",
      "+-------------------+---------------------+-------------------+-----------------+\n",
      "|Delta||Delta||Delta|[Delta, Delta, Delta]|[Delta]            |1                |\n",
      "|Delta||Delta||Delta|[Delta, Delta, Delta]|[Delta]            |1                |\n",
      "|United             |[United]             |[United]           |1                |\n",
      "|United             |[United]             |[United]           |1                |\n",
      "|American Airlines  |[American Airlines]  |[American Airlines]|1                |\n",
      "|JetBlue Airways    |[JetBlue Airways]    |[JetBlue Airways]  |1                |\n",
      "|JetBlue Airways    |[JetBlue Airways]    |[JetBlue Airways]  |1                |\n",
      "|American Airlines  |[American Airlines]  |[American Airlines]|1                |\n",
      "|American Airlines  |[American Airlines]  |[American Airlines]|1                |\n",
      "|JetBlue Airways    |[JetBlue Airways]    |[JetBlue Airways]  |1                |\n",
      "+-------------------+---------------------+-------------------+-----------------+\n",
      "only showing top 10 rows\n",
      "\n"
     ]
    }
   ],
   "source": [
    "# check that the columns updated correctly \n",
    "smalldf.select(\"segmentsAirlineName\", \"AirlineNames\", \"UniqueAirlineNames\", \"NumUniqueAirlines\").show(10, truncate = False)"
   ]
  },
  {
   "cell_type": "code",
   "execution_count": 23,
   "id": "90d73089-3fbf-4789-af70-aaa30d5c82b9",
   "metadata": {},
   "outputs": [],
   "source": [
    "# drop original and temporary columns\n",
    "smalldf = smalldf.drop(\"segmentsAirlineName\", \"UniqueAirlineNames\")"
   ]
  },
  {
   "cell_type": "code",
   "execution_count": 24,
   "id": "de1e45a2-a714-48bf-b4ff-028eb841250f",
   "metadata": {},
   "outputs": [],
   "source": [
    "# find all flight craft types flewn and count number of unique crafts  \n",
    "smalldf = smalldf.withColumn('EquipmentDescriptions', split(smalldf['segmentsEquipmentDescription'], '\\|\\|'))\n",
    "smalldf = smalldf.withColumn('UniqueEquipments', F.array_distinct(F.col('EquipmentDescriptions')))\n",
    "smalldf = smalldf.withColumn('NumUniqueEquipments', F.size(F.col('UniqueEquipments')))"
   ]
  },
  {
   "cell_type": "code",
   "execution_count": 25,
   "id": "910b4e57-b844-4ff1-b22d-37ab4f63f352",
   "metadata": {},
   "outputs": [
    {
     "name": "stdout",
     "output_type": "stream",
     "text": [
      "+---------------------------------------------------------+-----------------------------------------------------------+----------------------------------------------+-------------------+\n",
      "|segmentsEquipmentDescription                             |EquipmentDescriptions                                      |UniqueEquipments                              |NumUniqueEquipments|\n",
      "+---------------------------------------------------------+-----------------------------------------------------------+----------------------------------------------+-------------------+\n",
      "|Airbus A321||Airbus A321||Airbus A220-100                |[Airbus A321, Airbus A321, Airbus A220-100]                |[Airbus A321, Airbus A220-100]                |2                  |\n",
      "|Airbus A321||Airbus A321||Embraer 175 (Enhanced Winglets)|[Airbus A321, Airbus A321, Embraer 175 (Enhanced Winglets)]|[Airbus A321, Embraer 175 (Enhanced Winglets)]|2                  |\n",
      "|Airbus A319                                              |[Airbus A319]                                              |[Airbus A319]                                 |1                  |\n",
      "|Airbus A319                                              |[Airbus A319]                                              |[Airbus A319]                                 |1                  |\n",
      "|Boeing 737-800                                           |[Boeing 737-800]                                           |[Boeing 737-800]                              |1                  |\n",
      "|Boeing 737-800                                           |[Boeing 737-800]                                           |[Boeing 737-800]                              |1                  |\n",
      "|Boeing 737-800                                           |[Boeing 737-800]                                           |[Boeing 737-800]                              |1                  |\n",
      "|Boeing 737-800                                           |[Boeing 737-800]                                           |[Boeing 737-800]                              |1                  |\n",
      "|Boeing 737-800                                           |[Boeing 737-800]                                           |[Boeing 737-800]                              |1                  |\n",
      "|Boeing 737-800                                           |[Boeing 737-800]                                           |[Boeing 737-800]                              |1                  |\n",
      "+---------------------------------------------------------+-----------------------------------------------------------+----------------------------------------------+-------------------+\n",
      "only showing top 10 rows\n",
      "\n"
     ]
    }
   ],
   "source": [
    "# check that the columns updated correctly \n",
    "smalldf.select(\"segmentsEquipmentDescription\", \"EquipmentDescriptions\", \"UniqueEquipments\", \"NumUniqueEquipments\").show(10, truncate = False)"
   ]
  },
  {
   "cell_type": "code",
   "execution_count": 26,
   "id": "11aa7663-d986-4f54-8eff-1806f0372a7b",
   "metadata": {},
   "outputs": [],
   "source": [
    "# drop original and temporary columns\n",
    "smalldf = smalldf.drop(\"segmentsEquipmentDescription\", \"UniqueEquipments\")"
   ]
  },
  {
   "cell_type": "code",
   "execution_count": 27,
   "id": "4d8b4901-a8e7-45ad-b2f8-8fe430522cbf",
   "metadata": {},
   "outputs": [],
   "source": [
    "# find all cabin types flewn and count number of unique cabins\n",
    "smalldf = smalldf.withColumn('CabinCodes', split(smalldf['segmentsCabinCode'], '\\|\\|'))\n",
    "smalldf = smalldf.withColumn('UniqueCabins', F.array_distinct(F.col('CabinCodes')))\n",
    "smalldf = smalldf.withColumn('NumUniqueCabins', F.size(F.col('UniqueCabins')))"
   ]
  },
  {
   "cell_type": "code",
   "execution_count": 29,
   "id": "fe7e726f-0ba1-4720-b6d3-33f416aa6401",
   "metadata": {},
   "outputs": [],
   "source": [
    "smalldf = smalldf.withColumn(\n",
    "    \"hasFirstClass\", \n",
    "    F.when(F.array_contains(F.col(\"UniqueCabins\"), \"first\"), 1).otherwise(0)\n",
    ")"
   ]
  },
  {
   "cell_type": "code",
   "execution_count": 31,
   "id": "0cb04e02-e236-47d1-9fd6-0afbb28b3e58",
   "metadata": {},
   "outputs": [
    {
     "name": "stdout",
     "output_type": "stream",
     "text": [
      "+-------------------+---------------------+------------+---------------+-------------+\n",
      "|segmentsCabinCode  |CabinCodes           |UniqueCabins|NumUniqueCabins|hasFirstClass|\n",
      "+-------------------+---------------------+------------+---------------+-------------+\n",
      "|first||first||first|[first, first, first]|[first]     |1              |1            |\n",
      "|first||first||first|[first, first, first]|[first]     |1              |1            |\n",
      "|coach              |[coach]              |[coach]     |1              |0            |\n",
      "|coach              |[coach]              |[coach]     |1              |0            |\n",
      "|coach              |[coach]              |[coach]     |1              |0            |\n",
      "|coach              |[coach]              |[coach]     |1              |0            |\n",
      "|coach              |[coach]              |[coach]     |1              |0            |\n",
      "|coach              |[coach]              |[coach]     |1              |0            |\n",
      "|coach              |[coach]              |[coach]     |1              |0            |\n",
      "|coach              |[coach]              |[coach]     |1              |0            |\n",
      "+-------------------+---------------------+------------+---------------+-------------+\n",
      "only showing top 10 rows\n",
      "\n"
     ]
    }
   ],
   "source": [
    "# check that the columns updated correctly \n",
    "smalldf.select(\"segmentsCabinCode\", \"CabinCodes\", \"UniqueCabins\", \"NumUniqueCabins\", \"hasFirstClass\").show(10, truncate = False)"
   ]
  },
  {
   "cell_type": "code",
   "execution_count": 32,
   "id": "dd79df58-1bcb-4f70-853e-0a805fc17c9b",
   "metadata": {},
   "outputs": [],
   "source": [
    "# drop original and temporary columns\n",
    "smalldf = smalldf.drop(\"segmentsCabinCode\", \"UniqueCabins\")"
   ]
  },
  {
   "cell_type": "code",
   "execution_count": 34,
   "id": "486be91b-0f2a-4d6c-95a4-fc9ffabdaa8c",
   "metadata": {},
   "outputs": [
    {
     "name": "stdout",
     "output_type": "stream",
     "text": [
      "root\n",
      " |-- legId: string (nullable = true)\n",
      " |-- searchDate: date (nullable = true)\n",
      " |-- flightDate: date (nullable = true)\n",
      " |-- startingAirport: string (nullable = true)\n",
      " |-- destinationAirport: string (nullable = true)\n",
      " |-- travelDuration: integer (nullable = false)\n",
      " |-- elapsedDays: integer (nullable = true)\n",
      " |-- isRefundable: boolean (nullable = true)\n",
      " |-- isNonStop: boolean (nullable = true)\n",
      " |-- totalFare: double (nullable = true)\n",
      " |-- seatsRemaining: integer (nullable = true)\n",
      " |-- totalTravelDistance: integer (nullable = true)\n",
      " |-- segmentsArrivalTimeRaw: string (nullable = true)\n",
      " |-- DaysPassed: integer (nullable = true)\n",
      " |-- Layovers: array (nullable = true)\n",
      " |    |-- element: string (containsNull = true)\n",
      " |-- NumStops: integer (nullable = false)\n",
      " |-- AirlineNames: array (nullable = true)\n",
      " |    |-- element: string (containsNull = true)\n",
      " |-- NumUniqueAirlines: integer (nullable = false)\n",
      " |-- EquipmentDescriptions: array (nullable = true)\n",
      " |    |-- element: string (containsNull = true)\n",
      " |-- NumUniqueEquipments: integer (nullable = false)\n",
      " |-- CabinCodes: array (nullable = true)\n",
      " |    |-- element: string (containsNull = true)\n",
      " |-- NumUniqueCabins: integer (nullable = false)\n",
      " |-- hasFirstClass: integer (nullable = false)\n",
      "\n"
     ]
    }
   ],
   "source": [
    "smalldf.printSchema()"
   ]
  },
  {
   "cell_type": "code",
   "execution_count": null,
   "id": "30757284-d21d-492c-abac-98b6d458f518",
   "metadata": {},
   "outputs": [],
   "source": []
  }
 ],
 "metadata": {
  "kernelspec": {
   "display_name": "PySpark",
   "language": "python",
   "name": "pyspark"
  },
  "language_info": {
   "codemirror_mode": {
    "name": "ipython",
    "version": 3
   },
   "file_extension": ".py",
   "mimetype": "text/x-python",
   "name": "python",
   "nbconvert_exporter": "python",
   "pygments_lexer": "ipython3",
   "version": "3.8.15"
  }
 },
 "nbformat": 4,
 "nbformat_minor": 5
}
